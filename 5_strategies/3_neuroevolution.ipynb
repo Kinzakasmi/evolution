{
 "cells": [
  {
   "cell_type": "markdown",
   "metadata": {
    "slideshow": {
     "slide_type": "slide"
    }
   },
   "source": [
    "<img src=\"../imgs/logo.png\" width=\"20%\" align=\"right\" style=\"margin:0px 20px\">\n",
    "\n",
    "\n",
    "# Evolutionary Computation\n",
    "\n",
    "## 5.3 Deep Neuroevolution\n",
    "\n",
    "<a rel=\"license\" href=\"http://creativecommons.org/licenses/by-sa/4.0/\"><img alt=\"Creative Commons License\" align=\"left\" src=\"https://i.creativecommons.org/l/by-sa/4.0/80x15.png\" /></a>&nbsp;| Dennis G. Wilson | <a href=\"https://d9w.github.io/evolution/\">https://d9w.github.io/evolution/</a>"
   ]
  },
  {
   "cell_type": "markdown",
   "metadata": {
    "slideshow": {
     "slide_type": "slide"
    }
   },
   "source": [
    "# Deep Neuroevolution\n",
    "\n",
    "Artificial neural networks are commonly used today in many applications, from phone apps to automatic piloting systems to search engines. These machine learning models contain many parameters and are usually optimized with stochastic gradient descent. However, evolutionary strategies can also be a great tool for optimizing neural network parameters, especially when there isn't a clear direction the training of the network should take. This is the case for reinforcement learning, so we'll look at a classic RL task in this section.\n",
    "\n",
    "Because of the success of deep learning, where neural network architectures are \"deep\" by having many layers, this field is sometimes called deep neuroevolution. However, remember from tutorial 4 that researchers have been evolving neural networks long before the advent of deep learning."
   ]
  },
  {
   "cell_type": "markdown",
   "metadata": {
    "slideshow": {
     "slide_type": "slide"
    }
   },
   "source": [
    "In today's notebook, I'll be using some Python RL environments and using PyCall to interact with them in Julia."
   ]
  },
  {
   "cell_type": "code",
<<<<<<< HEAD
   "execution_count": 26,
   "metadata": {},
=======
   "execution_count": null,
   "metadata": {
    "slideshow": {
     "slide_type": "fragment"
    }
   },
>>>>>>> upstream/master
   "outputs": [],
   "source": [
    "using PyCall\n",
    "using Conda"
   ]
  },
  {
   "cell_type": "code",
   "execution_count": 28,
   "metadata": {
    "scrolled": true,
    "slideshow": {
     "slide_type": "fragment"
    }
   },
   "outputs": [
    {
     "name": "stderr",
     "output_type": "stream",
     "text": [
      "┌ Info: Running `conda config --add channels conda-forge --file 'C:\\Users\\Kinza\\.julia\\conda\\3\\condarc-julia.yml' --force` in root environment\n",
      "└ @ Conda C:\\Users\\Kinza\\.julia\\packages\\Conda\\3rPhK\\src\\Conda.jl:113\n",
      "┌ Info: Running `conda install -y gym` in root environment\n",
      "└ @ Conda C:\\Users\\Kinza\\.julia\\packages\\Conda\\3rPhK\\src\\Conda.jl:113\n"
     ]
    },
    {
     "name": "stdout",
     "output_type": "stream",
     "text": [
      "Collecting package metadata (current_repodata.json): ...working... done\n",
      "Solving environment: ...working... done\n",
      "\n",
      "## Package Plan ##\n",
      "\n",
      "  environment location: C:\\Users\\Kinza\\.julia\\conda\\3\n",
      "\n",
      "  added / updated specs:\n",
      "    - gym\n",
      "\n",
      "\n",
      "The following packages will be downloaded:\n",
      "\n",
      "    package                    |            build\n",
      "    ---------------------------|-----------------\n",
      "    ca-certificates-2020.4.5.1 |       hecc5488_0         184 KB  conda-forge\n",
      "    certifi-2020.4.5.1         |   py37hc8dfbb8_0         150 KB  conda-forge\n",
      "    cloudpickle-1.2.2          |             py_1          23 KB  conda-forge\n",
      "    conda-4.8.3                |   py37hc8dfbb8_1         3.1 MB  conda-forge\n",
      "    ffmpeg-4.2                 |       h6538335_0        23.4 MB  conda-forge\n",
      "    freetype-2.10.1            |       ha9979f8_0         481 KB  conda-forge\n",
      "    future-0.18.2              |   py37hc8dfbb8_1         732 KB  conda-forge\n",
      "    gym-0.17.1                 |   py37hc8dfbb8_0         1.8 MB  conda-forge\n",
      "    libpng-1.6.37              |       hfe6a214_1         1.4 MB  conda-forge\n",
      "    openssl-1.1.1g             |       he774522_0         5.7 MB  conda-forge\n",
      "    pyglet-1.5.0               |   py37hc8dfbb8_1         1.3 MB  conda-forge\n",
      "    python_abi-3.7             |          1_cp37m           4 KB  conda-forge\n",
      "    scipy-1.4.1                |   py37h9439919_0        11.9 MB\n",
      "    ------------------------------------------------------------\n",
      "                                           Total:        50.2 MB\n",
      "\n",
      "The following NEW packages will be INSTALLED:\n",
      "\n",
      "  cloudpickle        conda-forge/noarch::cloudpickle-1.2.2-py_1\n",
      "  ffmpeg             conda-forge/win-64::ffmpeg-4.2-h6538335_0\n",
      "  freetype           conda-forge/win-64::freetype-2.10.1-ha9979f8_0\n",
      "  future             conda-forge/win-64::future-0.18.2-py37hc8dfbb8_1\n",
      "  gym                conda-forge/win-64::gym-0.17.1-py37hc8dfbb8_0\n",
      "  libpng             conda-forge/win-64::libpng-1.6.37-hfe6a214_1\n",
      "  pyglet             conda-forge/win-64::pyglet-1.5.0-py37hc8dfbb8_1\n",
      "  python_abi         conda-forge/win-64::python_abi-3.7-1_cp37m\n",
      "  scipy              pkgs/main/win-64::scipy-1.4.1-py37h9439919_0\n",
      "\n",
      "The following packages will be UPDATED:\n",
      "\n",
      "  ca-certificates     pkgs/main::ca-certificates-2020.1.1-0 --> conda-forge::ca-certificates-2020.4.5.1-hecc5488_0\n",
      "  conda                       pkgs/main::conda-4.8.3-py37_0 --> conda-forge::conda-4.8.3-py37hc8dfbb8_1\n",
      "\n",
      "The following packages will be SUPERSEDED by a higher-priority channel:\n",
      "\n",
      "  certifi              pkgs/main::certifi-2020.4.5.1-py37_0 --> conda-forge::certifi-2020.4.5.1-py37hc8dfbb8_0\n",
      "  openssl                                         pkgs/main --> conda-forge\n",
      "\n",
      "\n",
      "\n",
      "Downloading and Extracting Packages\n",
      "future-0.18.2        | 732 KB    | ########## | 100% \n",
      "conda-4.8.3          | 3.1 MB    | ########## | 100% \n",
      "scipy-1.4.1          | 11.9 MB   | ########## | 100% \n",
      "freetype-2.10.1      | 481 KB    | ########## | 100% \n",
      "cloudpickle-1.2.2    | 23 KB     | ########## | 100% \n",
      "python_abi-3.7       | 4 KB      | ########## | 100% \n",
      "certifi-2020.4.5.1   | 150 KB    | ########## | 100% \n",
      "libpng-1.6.37        | 1.4 MB    | ########## | 100% \n",
      "ffmpeg-4.2           | 23.4 MB   | ########## | 100% \n",
      "openssl-1.1.1g       | 5.7 MB    | ########## | 100% \n",
      "gym-0.17.1           | 1.8 MB    | ########## | 100% \n",
      "pyglet-1.5.0         | 1.3 MB    | ########## | 100% \n",
      "ca-certificates-2020 | 184 KB    | ########## | 100% \n",
      "Preparing transaction: ...working... done\n",
      "Verifying transaction: ...working... done\n",
      "Executing transaction: ...working... done\n"
     ]
    }
   ],
   "source": [
    "Conda.add_channel(\"conda-forge\")\n",
    "Conda.add(\"gym\")"
   ]
  },
  {
   "cell_type": "markdown",
   "metadata": {
    "slideshow": {
     "slide_type": "slide"
    }
   },
   "source": [
    "I'll also select a random seed. This means that whenever I generate random numbers, they'll follow a defined sequence. Finally, I'll import all of the code from the CMA-ES notebook, which I've put in a separate file."
   ]
  },
  {
   "cell_type": "code",
<<<<<<< HEAD
   "execution_count": 29,
   "metadata": {},
=======
   "execution_count": null,
   "metadata": {
    "slideshow": {
     "slide_type": "fragment"
    }
   },
>>>>>>> upstream/master
   "outputs": [],
   "source": [
    "import Random\n",
    "Random.seed!(1234);"
   ]
  },
  {
   "cell_type": "code",
<<<<<<< HEAD
   "execution_count": 30,
   "metadata": {},
=======
   "execution_count": null,
   "metadata": {
    "slideshow": {
     "slide_type": "fragment"
    }
   },
>>>>>>> upstream/master
   "outputs": [],
   "source": [
    "include(\"cmaes.jl\");"
   ]
  },
  {
   "cell_type": "markdown",
   "metadata": {
    "slideshow": {
     "slide_type": "slide"
    }
   },
   "source": [
    "Let's make a simple neural network. Remember the model of a neuron which multiplies inputs by synaptic weights then adds a bias. We'll construct a network with two internal, or hidden, layers. These layers will be fully connected - every neuron will connect to every other one in the next layer.\n",
    "\n",
    "<img src=\"../imgs/neuron_model.jpeg\" width=\"50%\">\n",
    "<img src=\"../imgs/cnn.png\" width=\"50%\">"
   ]
  },
  {
   "cell_type": "code",
<<<<<<< HEAD
   "execution_count": 31,
   "metadata": {},
=======
   "execution_count": null,
   "metadata": {
    "slideshow": {
     "slide_type": "slide"
    }
   },
>>>>>>> upstream/master
   "outputs": [],
   "source": [
    "struct FCLayer\n",
    "    w::Array{Float64}\n",
    "    b::Array{Float64}\n",
    "end\n",
    "\n",
    "struct SimpleANN\n",
    "    l1::FCLayer\n",
    "    l2::FCLayer\n",
    "    out::FCLayer\n",
    "end"
   ]
  },
  {
   "cell_type": "markdown",
   "metadata": {
    "slideshow": {
     "slide_type": "slide"
    }
   },
   "source": [
    "We can write a construction method which just uses zeros as all weights and biases. We'll fill these with the genetic information later."
   ]
  },
  {
   "cell_type": "code",
<<<<<<< HEAD
   "execution_count": 32,
   "metadata": {},
   "outputs": [
    {
     "data": {
      "text/plain": [
       "SimpleANN"
      ]
     },
     "execution_count": 32,
     "metadata": {},
     "output_type": "execute_result"
    }
   ],
=======
   "execution_count": null,
   "metadata": {
    "slideshow": {
     "slide_type": "fragment"
    }
   },
   "outputs": [],
>>>>>>> upstream/master
   "source": [
    "function SimpleANN(input::Int, N1::Int, N2::Int, output::Int)\n",
    "    l1 = FCLayer(zeros(N1, input), zeros(N1))\n",
    "    l2 = FCLayer(zeros(N2, N1), zeros(N2))\n",
    "    out = FCLayer(zeros(output, N2), zeros(output))\n",
    "    SimpleANN(l1, l2, out)\n",
    "end"
   ]
  },
  {
   "cell_type": "markdown",
   "metadata": {
    "slideshow": {
     "slide_type": "slide"
    }
   },
   "source": [
    "Finally, we'll use our network to compute, passing an input in before the first layer and recording the activation of the output layer"
   ]
  },
  {
   "cell_type": "code",
<<<<<<< HEAD
   "execution_count": 33,
   "metadata": {},
=======
   "execution_count": null,
   "metadata": {
    "slideshow": {
     "slide_type": "fragment"
    }
   },
>>>>>>> upstream/master
   "outputs": [],
   "source": [
    "ann = SimpleANN(5, 64, 64, 4);"
   ]
  },
  {
   "cell_type": "code",
<<<<<<< HEAD
   "execution_count": 34,
   "metadata": {},
   "outputs": [
    {
     "data": {
      "text/plain": [
       "compute (generic function with 1 method)"
      ]
     },
     "execution_count": 34,
     "metadata": {},
     "output_type": "execute_result"
    }
   ],
=======
   "execution_count": null,
   "metadata": {
    "slideshow": {
     "slide_type": "fragment"
    }
   },
   "outputs": [],
>>>>>>> upstream/master
   "source": [
    "function compute(inputs::Array{Float64}, ann::SimpleANN)\n",
    "    x = ann.l1.w * inputs .+ ann.l1.b\n",
    "    x = ann.l2.w * x .+ ann.l2.b\n",
    "    x = ann.out.w * x .+ ann.out.b\n",
    "    x\n",
    "end"
   ]
  },
  {
   "cell_type": "markdown",
   "metadata": {
    "slideshow": {
     "slide_type": "slide"
    }
   },
   "source": [
    "Since all weights and biases are zeros, if we pass in zeros we should also get out zeros."
   ]
  },
  {
   "cell_type": "code",
<<<<<<< HEAD
   "execution_count": 35,
   "metadata": {},
   "outputs": [
    {
     "data": {
      "text/plain": [
       "4-element Array{Float64,1}:\n",
       " 0.0\n",
       " 0.0\n",
       " 0.0\n",
       " 0.0"
      ]
     },
     "execution_count": 35,
     "metadata": {},
     "output_type": "execute_result"
    }
   ],
=======
   "execution_count": null,
   "metadata": {
    "slideshow": {
     "slide_type": "fragment"
    }
   },
   "outputs": [],
>>>>>>> upstream/master
   "source": [
    "compute(zeros(5), ann)"
   ]
  },
  {
   "cell_type": "markdown",
   "metadata": {
    "slideshow": {
     "slide_type": "slide"
    }
   },
   "source": [
    "Now that we have an ANN, let's test it. We'll evaluate individuals in the CartPole environment, where they must balance a pole on a cart to keep it upright. The actions our agent can take are to move the cart either right or left."
   ]
  },
  {
   "cell_type": "code",
<<<<<<< HEAD
   "execution_count": 36,
   "metadata": {},
   "outputs": [
    {
     "data": {
      "text/plain": [
       "PyObject <module 'gym' from 'C:\\\\Users\\\\Kinza\\\\.julia\\\\conda\\\\3\\\\lib\\\\site-packages\\\\gym\\\\__init__.py'>"
      ]
     },
     "execution_count": 36,
     "metadata": {},
     "output_type": "execute_result"
    }
   ],
=======
   "execution_count": null,
   "metadata": {
    "slideshow": {
     "slide_type": "fragment"
    }
   },
   "outputs": [],
>>>>>>> upstream/master
   "source": [
    "gym = pyimport(\"gym\")"
   ]
  },
  {
   "cell_type": "code",
<<<<<<< HEAD
   "execution_count": 37,
   "metadata": {},
=======
   "execution_count": null,
   "metadata": {
    "slideshow": {
     "slide_type": "fragment"
    }
   },
>>>>>>> upstream/master
   "outputs": [],
   "source": [
    "env = gym.make(\"CartPole-v1\")\n",
    "n_in = 4\n",
    "n_out = 2;"
   ]
  },
  {
   "cell_type": "markdown",
   "metadata": {
    "slideshow": {
     "slide_type": "slide"
    }
   },
   "source": [
    "We'll run an entire episode, which terminates whenever the pole falls to a certain angle from the top."
   ]
  },
  {
   "cell_type": "code",
<<<<<<< HEAD
   "execution_count": 38,
   "metadata": {},
   "outputs": [
    {
     "data": {
      "text/plain": [
       "play_env (generic function with 1 method)"
      ]
     },
     "execution_count": 38,
     "metadata": {},
     "output_type": "execute_result"
    }
   ],
=======
   "execution_count": null,
   "metadata": {
    "slideshow": {
     "slide_type": "fragment"
    }
   },
   "outputs": [],
>>>>>>> upstream/master
   "source": [
    "function play_env(ann::SimpleANN; render=false)\n",
    "    env = gym.make(\"CartPole-v1\")\n",
    "    env.seed(0)\n",
    "    obs = env.reset()\n",
    "    total_reward = 0.0\n",
    "    done = false\n",
    "    \n",
    "    while ~done\n",
    "        action = argmax(compute(obs, ann))-1\n",
    "        obs, reward, done, _ = env.step(action)\n",
    "        if render\n",
    "            env.render()\n",
    "        end\n",
    "        total_reward += reward\n",
    "    end\n",
    "    env.close()\n",
    "    env = nothing\n",
    "    Base.GC.gc()\n",
    "    total_reward\n",
    "end"
   ]
  },
  {
   "cell_type": "markdown",
   "metadata": {
    "slideshow": {
     "slide_type": "slide"
    }
   },
   "source": [
    "With our zero network, this won't be able to last very long, as it is always taking a constant action of 0."
   ]
  },
  {
   "cell_type": "code",
<<<<<<< HEAD
   "execution_count": 39,
   "metadata": {},
   "outputs": [
    {
     "data": {
      "text/plain": [
       "9.0"
      ]
     },
     "execution_count": 39,
     "metadata": {},
     "output_type": "execute_result"
    }
   ],
=======
   "execution_count": null,
   "metadata": {
    "slideshow": {
     "slide_type": "fragment"
    }
   },
   "outputs": [],
>>>>>>> upstream/master
   "source": [
    "ann = SimpleANN(n_in, 5, 5, n_out)\n",
    "play_env(ann; render=true)"
   ]
  },
  {
<<<<<<< HEAD
   "cell_type": "code",
   "execution_count": 40,
   "metadata": {},
   "outputs": [
    {
     "data": {
      "text/plain": [
       "9.0"
      ]
     },
     "execution_count": 40,
     "metadata": {},
     "output_type": "execute_result"
    }
   ],
=======
   "cell_type": "markdown",
   "metadata": {
    "slideshow": {
     "slide_type": "slide"
    }
   },
>>>>>>> upstream/master
   "source": [
    "Let's write a new constructor for our network which takes in genes and sets all of the network parameters. We'll then optimize these genes."
   ]
  },
  {
   "cell_type": "code",
<<<<<<< HEAD
   "execution_count": 41,
   "metadata": {},
   "outputs": [
    {
     "data": {
      "text/plain": [
       "genes_to_ann (generic function with 1 method)"
      ]
     },
     "execution_count": 41,
     "metadata": {},
     "output_type": "execute_result"
    }
   ],
=======
   "execution_count": null,
   "metadata": {
    "slideshow": {
     "slide_type": "fragment"
    }
   },
   "outputs": [],
>>>>>>> upstream/master
   "source": [
    "function SimpleANN(genes::Array{Float64})\n",
    "    ann = SimpleANN(n_in, 5, 5, n_out)\n",
    "    layers = [ann.l1.w, ann.l1.b, ann.l2.w, ann.l2.b, ann.out.w, ann.out.b]\n",
    "    L = 1\n",
    "    j = 1\n",
    "    for i in eachindex(genes)\n",
    "        if j > length(layers[L])\n",
    "            L += 1\n",
    "            j = 1\n",
    "        end\n",
    "        layers[L][j] = genes[i]\n",
    "        j += 1\n",
    "    end\n",
    "    ann\n",
    "end"
   ]
  },
  {
   "cell_type": "markdown",
   "metadata": {
    "slideshow": {
     "slide_type": "slide"
    }
   },
   "source": [
    "The objective function is then just to create an ANN and evaluate its performance on an episode of the CartPole benchmark. Because CMA-ES is minimizing, we'll return the negative."
   ]
  },
  {
   "cell_type": "code",
<<<<<<< HEAD
   "execution_count": 42,
   "metadata": {},
   "outputs": [
    {
     "data": {
      "text/plain": [
       "objective (generic function with 1 method)"
      ]
     },
     "execution_count": 42,
     "metadata": {},
     "output_type": "execute_result"
    }
   ],
=======
   "execution_count": null,
   "metadata": {
    "slideshow": {
     "slide_type": "fragment"
    }
   },
   "outputs": [],
>>>>>>> upstream/master
   "source": [
    "function objective(genes::Array{Float64})\n",
    "    ann = SimpleANN(genes)\n",
    "    -play_env(ann)\n",
    "end"
   ]
  },
  {
   "cell_type": "markdown",
   "metadata": {
    "slideshow": {
     "slide_type": "slide"
    }
   },
   "source": [
    "Let's see how many genes we have now:"
   ]
  },
  {
   "cell_type": "code",
<<<<<<< HEAD
   "execution_count": 43,
   "metadata": {},
   "outputs": [
    {
     "data": {
      "text/plain": [
       "67"
      ]
     },
     "execution_count": 43,
     "metadata": {},
     "output_type": "execute_result"
    }
   ],
=======
   "execution_count": null,
   "metadata": {
    "slideshow": {
     "slide_type": "fragment"
    }
   },
   "outputs": [],
>>>>>>> upstream/master
   "source": [
    "N = n_in*5 + 5 + 5*5 + 5 + 5*n_out + n_out"
   ]
  },
  {
<<<<<<< HEAD
   "cell_type": "code",
   "execution_count": 44,
   "metadata": {},
   "outputs": [
    {
     "data": {
      "text/plain": [
       "SimpleANN(FCLayer([0.8673472019512456 2.2118774995743475 -0.5605013381807765 0.11009612632217552; -0.9017438158568171 0.5328132821695382 -0.019291781689849075 -0.2511757400198831; … ; -0.9029142938652416 0.5023344963886675 1.852782957725545 0.07211635315125874; 0.8644013132535154 -0.5169836206932686 -0.8277634318169205 -1.503429457351051], [1.5641682355362416, -1.3967353668333795, 1.1054978391059092, -1.1067299135255761, -3.2113596499239088]), FCLayer([-0.07401454242444336 -1.2796722102183824 … -0.0801624859452718 -0.11445720023473198; 0.1509756176321479 0.9973171556575041 … -1.0912192142639132 0.1658369675157237; … ; -0.31015257323306406 -0.036445994527206725 … -0.3154372460983286 -1.009783518501397; -0.6027068905147959 0.14197425838484184 … -1.3614476249361172 -0.5438048486401967], [-1.2267247260093483, -0.5417157197543718, -0.6864935365141717, -0.7129319615024848, -0.3270588960867544]), FCLayer([0.5148361669491318 -0.3079736599439786 … -0.9871768159072896 -0.5227721501159824; 2.4174733478680444 1.2453033858573443 … 1.4821723679733616 -1.580700774609182], [0.1318423302974782, 0.44735795730457095]))"
      ]
     },
     "execution_count": 44,
     "metadata": {},
     "output_type": "execute_result"
    }
   ],
=======
   "cell_type": "markdown",
   "metadata": {
    "slideshow": {
     "slide_type": "slide"
    }
   },
>>>>>>> upstream/master
   "source": [
    "Now we can try a random individual, maybe it will do better!"
   ]
  },
  {
   "cell_type": "code",
<<<<<<< HEAD
   "execution_count": 45,
   "metadata": {},
   "outputs": [
    {
     "data": {
      "text/plain": [
       "13.0"
      ]
     },
     "execution_count": 45,
     "metadata": {},
     "output_type": "execute_result"
    }
   ],
=======
   "execution_count": null,
   "metadata": {
    "slideshow": {
     "slide_type": "fragment"
    }
   },
   "outputs": [],
>>>>>>> upstream/master
   "source": [
    "ann = SimpleANN(randn(N))\n",
    "play_env(ann; render=true)"
   ]
  },
  {
<<<<<<< HEAD
   "cell_type": "code",
   "execution_count": 46,
   "metadata": {},
   "outputs": [
    {
     "data": {
      "text/plain": [
       "13.0"
      ]
     },
     "execution_count": 46,
     "metadata": {},
     "output_type": "execute_result"
    }
   ],
=======
   "cell_type": "markdown",
   "metadata": {
    "slideshow": {
     "slide_type": "slide"
    }
   },
>>>>>>> upstream/master
   "source": [
    "Let's use the CMAES function we defined in the last notebook and optimize for just a few steps."
   ]
  },
  {
   "cell_type": "code",
<<<<<<< HEAD
   "execution_count": 47,
   "metadata": {},
   "outputs": [
    {
     "name": "stdout",
     "output_type": "stream",
     "text": [
      "1 206.0\n",
      "2 128.0\n",
      "3 39.0\n",
      "4 119.0\n",
      "5 116.0\n"
     ]
    }
   ],
=======
   "execution_count": null,
   "metadata": {
    "slideshow": {
     "slide_type": "fragment"
    }
   },
   "outputs": [],
>>>>>>> upstream/master
   "source": [
    "c = CMAES(N=N, µ=10, λ=30, τ=sqrt(N), τ_c=N^2, τ_σ=sqrt(N))\n",
    "for i in 1:5\n",
    "    step!(c, objective)\n",
    "    println(i, \" \", maximum(.-c.F_λ))\n",
    "end"
   ]
  },
  {
   "cell_type": "markdown",
   "metadata": {
    "slideshow": {
     "slide_type": "fragment"
    }
   },
   "source": [
    "We might notice that our results go down. Remember that CMA-ES is not elitist! We should keep an external archive of the best results."
   ]
  },
  {
   "cell_type": "code",
<<<<<<< HEAD
   "execution_count": 48,
   "metadata": {},
   "outputs": [
    {
     "name": "stdout",
     "output_type": "stream",
     "text": [
      "1 94.0\n",
      "2 116.0\n",
      "3 500.0\n"
     ]
    }
   ],
=======
   "execution_count": null,
   "metadata": {
    "slideshow": {
     "slide_type": "slide"
    }
   },
   "outputs": [],
>>>>>>> upstream/master
   "source": [
    "best = nothing\n",
    "best_fit = -Inf\n",
    "c = CMAES(N=N, µ=10, λ=30, τ=sqrt(N), τ_c=N^2, τ_σ=sqrt(N))\n",
    "for i in 1:20\n",
    "    step!(c, objective)\n",
    "    bestind = argmin(c.F_λ)\n",
    "    maxfit = -c.F_λ[bestind]\n",
    "    println(i, \" \", maxfit)\n",
    "    if maxfit > best_fit\n",
    "        best = copy(c.offspring[bestind])\n",
    "        best_fit = maxfit\n",
    "    end\n",
    "    if best_fit == 500\n",
    "        break\n",
    "    end\n",
    "end"
   ]
  },
  {
   "cell_type": "markdown",
   "metadata": {
    "slideshow": {
     "slide_type": "slide"
    }
   },
   "source": [
    "Finally, we can see how the CMA-ES optimized invidual does on this benchmark."
   ]
  },
  {
   "cell_type": "code",
<<<<<<< HEAD
   "execution_count": 50,
   "metadata": {},
   "outputs": [
    {
     "data": {
      "text/plain": [
       "500.0"
      ]
     },
     "execution_count": 50,
     "metadata": {},
     "output_type": "execute_result"
    }
   ],
=======
   "execution_count": null,
   "metadata": {
    "slideshow": {
     "slide_type": "fragment"
    }
   },
   "outputs": [],
>>>>>>> upstream/master
   "source": [
    "ann = SimpleANN(best)\n",
    "play_env(ann; render=true)"
   ]
  },
  {
<<<<<<< HEAD
   "cell_type": "code",
   "execution_count": 52,
   "metadata": {},
   "outputs": [
    {
     "data": {
      "text/plain": [
       "500.0"
      ]
     },
     "execution_count": 52,
     "metadata": {},
     "output_type": "execute_result"
    }
   ],
   "source": [
    "function play_env(ann::SimpleANN; render=false)\n",
    "    env = gym.make(\"CartPole-v1\")\n",
    "    #env.seed(0)\n",
    "    obs = env.reset()\n",
    "    total_reward = 0.0\n",
    "    done = false\n",
    "    \n",
    "    while ~done\n",
    "        action = argmax(compute(obs, ann))-1\n",
    "        obs, reward, done, _ = env.step(action)\n",
    "        if render\n",
    "            env.render()\n",
    "        end\n",
    "        total_reward += reward\n",
    "    end\n",
    "    env.close()\n",
    "    env = nothing\n",
    "    Base.GC.gc()\n",
    "    total_reward\n",
    "end\n",
    "\n",
    "function objective(genes::Array{Float64})\n",
    "    ann = genes_to_ann(genes)\n",
    "    -play_env(ann)\n",
    "end\n",
    "\n",
    "ann = genes_to_ann(best)\n",
    "play_env(ann; render=true)"
=======
   "cell_type": "markdown",
   "metadata": {
    "slideshow": {
     "slide_type": "slide"
    }
   },
   "source": [
    "<div class=\"alert alert-success\">\n",
    "    <b>Exercise</b>\n",
    "    <br/>\n",
    "    We were sort of cheating before. This neural network only learned how to do well on one individual, the one which comes from seeing the environment with 0. Test is on an environment with a different seed. Does it still do well? Finally, re-run the evaluation, but don't use a random seed, or change it every time. What is the impact of a stochastic fitness on evolution?\n",
    "</div>"
>>>>>>> upstream/master
   ]
  }
 ],
 "metadata": {
  "@webio": {
   "lastCommId": null,
   "lastKernelId": null
  },
  "celltoolbar": "Slideshow",
  "kernelspec": {
   "display_name": "Julia 1.4.0",
   "language": "julia",
   "name": "julia-1.4"
  },
  "language_info": {
   "file_extension": ".jl",
   "mimetype": "application/julia",
   "name": "julia",
   "version": "1.4.0"
  }
 },
 "nbformat": 4,
 "nbformat_minor": 2
}
